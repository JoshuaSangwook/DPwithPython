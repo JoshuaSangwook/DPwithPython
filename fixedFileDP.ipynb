{
 "cells": [
  {
   "cell_type": "code",
   "execution_count": 37,
   "metadata": {
    "collapsed": false
   },
   "outputs": [
    {
     "data": {
      "text/plain": [
       "'/Users/1002516/10.Develop/python/DPwithPython'"
      ]
     },
     "execution_count": 37,
     "metadata": {},
     "output_type": "execute_result"
    }
   ],
   "source": [
    "import os\n",
    "os.getcwd()"
   ]
  },
  {
   "cell_type": "code",
   "execution_count": 38,
   "metadata": {
    "collapsed": false
   },
   "outputs": [
    {
     "data": {
      "text/plain": [
       "'./data/20170901/20170901.dat'"
      ]
     },
     "execution_count": 38,
     "metadata": {},
     "output_type": "execute_result"
    }
   ],
   "source": [
    "HEADER = \"START\"\n",
    "TAILER = \"END\"\n",
    "dirPath = \"./data/20170901/\"\n",
    "fileName = \"20170901.dat\"\n",
    "srcPath = os.path.join(dirPath,fileName)\n",
    "srcPath"
   ]
  },
  {
   "cell_type": "code",
   "execution_count": 45,
   "metadata": {
    "collapsed": false
   },
   "outputs": [
    {
     "name": "stdout",
     "output_type": "stream",
     "text": [
      "PA\n",
      "2017090110\n",
      "\n",
      "110\n",
      "\n",
      "215\n",
      "\n",
      "2017090120\n",
      "\n",
      "103\n",
      "\n",
      "209\n",
      "\n"
     ]
    }
   ],
   "source": [
    "with open(srcPath,\"r\") as srcFile:\n",
    "    srcFile.seek(0)\n",
    "    content = srcFile.read(6)\n",
    "    headerID = content[:5]\n",
    "    if headerID != HEADER:\n",
    "        exit(1)\n",
    "    seperator = srcFile.read(2)\n",
    "    print(seperator)\n",
    "    while seperator ==\"PA\":\n",
    "        parent = srcFile.read(11)\n",
    "        print(parent)\n",
    "        seperator = srcFile.read(2) \n",
    "        \n",
    "        while seperator ==\"SO\":\n",
    "            son = srcFile.read(4)\n",
    "            print(son)\n",
    "            seperator = srcFile.read(2) \n",
    "    "
   ]
  },
  {
   "cell_type": "code",
   "execution_count": null,
   "metadata": {
    "collapsed": true
   },
   "outputs": [],
   "source": []
  }
 ],
 "metadata": {
  "kernelspec": {
   "display_name": "Python [conda env:deeplearning]",
   "language": "python",
   "name": "conda-env-deeplearning-py"
  }
 },
 "nbformat": 4,
 "nbformat_minor": 2
}
