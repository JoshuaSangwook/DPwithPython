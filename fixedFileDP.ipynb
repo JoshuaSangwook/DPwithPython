{
 "cells": [
  {
   "cell_type": "code",
   "execution_count": 58,
   "metadata": {
    "collapsed": false
   },
   "outputs": [
    {
     "data": {
      "text/plain": [
       "'/Users/1002516/10.Develop/python/DPwithPython'"
      ]
     },
     "execution_count": 58,
     "metadata": {},
     "output_type": "execute_result"
    }
   ],
   "source": [
    "import os\n",
    "import time\n",
    "import csv\n",
    "os.getcwd()"
   ]
  },
  {
   "cell_type": "code",
   "execution_count": 59,
   "metadata": {
    "collapsed": false
   },
   "outputs": [
    {
     "data": {
      "text/plain": [
       "'./data/20170901/20170901.dat'"
      ]
     },
     "execution_count": 59,
     "metadata": {},
     "output_type": "execute_result"
    }
   ],
   "source": [
    "HEADER   = \"START\"\n",
    "TAILER   = \"END\"\n",
    "dirPath  = \"./data/20170901/\"\n",
    "fileName = \"20170901.dat\"\n",
    "curTime  = time.strftime('%Y%m%d%H%M%S')  #current time\n",
    "srcPath  = os.path.join(dirPath,fileName)\n",
    "targetPath01  = os.path.join(dirPath,fileName+\"_01\")\n",
    "targetPath02  = os.path.join(dirPath,fileName+\"_02\")\n",
    "srcPath"
   ]
  },
  {
   "cell_type": "markdown",
   "metadata": {},
   "source": [
    "## 파일 읽고 쓰기"
   ]
  },
  {
   "cell_type": "code",
   "execution_count": 64,
   "metadata": {
    "collapsed": false
   },
   "outputs": [
    {
     "name": "stdout",
     "output_type": "stream",
     "text": [
      "pa 20170901 10 20170926175756\n",
      "son 1 10\n",
      "son 2 15\n",
      "pa 20170901 20 20170926175756\n",
      "son 1 3\n",
      "son 2 9\n"
     ]
    }
   ],
   "source": [
    "with open(srcPath,\"r\") as srcFile:\n",
    "    srcFile.seek(0)\n",
    "    content = srcFile.read(6)\n",
    "    headerID = content[:5]\n",
    "    if headerID != HEADER:\n",
    "        exit(1)\n",
    "    seperator = srcFile.read(2)\n",
    "    \n",
    "    with open(targetPath01,\"w\") as t01, open(targetPath02,\"w\") as t02:\n",
    "        w01 = csv.writer(t01,delimiter=\"\\t\")\n",
    "        w02 = csv.writer(t02,delimiter=\"\\t\")\n",
    "        \n",
    "        #print(seperator)\n",
    "        while seperator ==\"PA\":\n",
    "            parent = srcFile.read(11)\n",
    "            #print(parent)\n",
    "            dt = parent[:8]\n",
    "            num = parent[8:10]\n",
    "            seperator = srcFile.read(2) \n",
    "            print(\"pa\",dt,num,curTime)\n",
    "            w01.writerow([dt,num,curTime])\n",
    "            while seperator ==\"SO\":\n",
    "                son = srcFile.read(4)\n",
    "                #print(son)\n",
    "                seq = son[:1]\n",
    "                num = son[1:3].lstrip(\"0\")\n",
    "                print(\"son\",seq,num)\n",
    "                w02.writerow([dt,seq,num])\n",
    "                seperator = srcFile.read(2) \n"
   ]
  },
  {
   "cell_type": "code",
   "execution_count": 115,
   "metadata": {
    "collapsed": false
   },
   "outputs": [
    {
     "data": {
      "text/plain": [
       "(b'BaiscDataProcessing.ipynb\\nREADME.md\\ndata\\nfixedFileDP.ipynb\\ntest.txt\\n',\n",
       " b'')"
      ]
     },
     "execution_count": 115,
     "metadata": {},
     "output_type": "execute_result"
    }
   ],
   "source": [
    "import subprocess\n",
    "command = subprocess.Popen(['ls','./'], stdout=subprocess.PIPE, stderr=subprocess.PIPE)\n",
    "\n",
    "command.communicate()"
   ]
  },
  {
   "cell_type": "code",
   "execution_count": 116,
   "metadata": {
    "collapsed": false
   },
   "outputs": [],
   "source": [
    "import glob"
   ]
  },
  {
   "cell_type": "code",
   "execution_count": 123,
   "metadata": {
    "collapsed": false
   },
   "outputs": [
    {
     "data": {
      "text/plain": [
       "list"
      ]
     },
     "execution_count": 123,
     "metadata": {},
     "output_type": "execute_result"
    }
   ],
   "source": [
    "type(glob.glob(\"*\"))"
   ]
  },
  {
   "cell_type": "code",
   "execution_count": null,
   "metadata": {
    "collapsed": true
   },
   "outputs": [],
   "source": []
  }
 ],
 "metadata": {
  "kernelspec": {
   "display_name": "Python [conda env:deeplearning]",
   "language": "python",
   "name": "conda-env-deeplearning-py"
  },
  "language_info": {
   "codemirror_mode": {
    "name": "ipython",
    "version": 3
   },
   "file_extension": ".py",
   "mimetype": "text/x-python",
   "name": "python",
   "nbconvert_exporter": "python",
   "pygments_lexer": "ipython3",
   "version": "3.5.3"
  }
 },
 "nbformat": 4,
 "nbformat_minor": 2
}
